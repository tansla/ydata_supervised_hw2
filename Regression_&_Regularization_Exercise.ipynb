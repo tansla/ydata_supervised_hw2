{
 "cells": [
  {
   "cell_type": "markdown",
   "metadata": {
    "id": "chEqqJbLzFew"
   },
   "source": [
    "# Yandex Data Science School\n",
    "## Linear Regression & Regularization Exercise.\n",
    "\n",
    "\n",
    "## Outline\n",
    "In this exercise you will learn the following topics:\n",
    "\n",
    "1. Refresher on how linear regression is solved in batch and in Gradient Descent \n",
    "2. Implementation of Ridge Regression\n",
    "3. Comparing Ridge, Lasso and vanila Linear Regression on a dataset"
   ]
  },
  {
   "cell_type": "markdown",
   "metadata": {},
   "source": [
    "# Git Exercise\n",
    "In this exercise you will also experience working with github.\n",
    "\n",
    "You might need to install local python enviroment.\n",
    "Installation Instruction for ex2 - working on a local python environment:\n",
    "https://docs.google.com/document/d/1G0rBo36ff_9JzKy0EkCalK4m_ThNUuJ2bRz463EHK9I\n",
    "\n",
    "## please add the github link of your work below:\n"
   ]
  },
  {
   "cell_type": "markdown",
   "metadata": {},
   "source": [
    "example: https://github.com/username/exercise_name"
   ]
  },
  {
   "attachments": {},
   "cell_type": "markdown",
   "metadata": {},
   "source": [
    "https://github.com/tansla/ydata-supervised-hw2"
   ]
  },
  {
   "cell_type": "markdown",
   "metadata": {
    "id": "mR9UFmk2greT"
   },
   "source": [
    "## Refresher on Ordinary Least Square (OLS) aka Linear Regeression\n",
    "\n",
    "### Lecture Note\n",
    "\n",
    "In Matrix notation, the matrix $X$ is of dimensions $n \\times p$ where each row is an example and each column is a feature dimension. \n",
    "\n",
    "Similarily, $y$ is of dimension $n \\times 1$ and $w$ is of dimensions $p \\times 1$.\n",
    "\n",
    "The model is $\\hat{y}=X\\cdot w$ where we assume for simplicity that $X$'s first columns equals to 1 (one padding), to account for the bias term.\n",
    "\n",
    "Our objective is to optimize the loss $L$ defines as resiudal sum of squares (RSS): \n",
    "\n",
    "$L_{RSS}=\\frac{1}{N}\\left\\Vert Xw-y \\right\\Vert^2$ (notice that in matrix notation this means summing over all examples, so $L$ is scalar.)\n",
    "\n",
    "To find the optimal $w$ one needs to derive the loss with respect to $w$.\n",
    "\n",
    "$\\frac{\\partial{L_{RSS}}}{\\partial{w}}=\\frac{2}{N}X^T(Xw-y)$ (to see why, read about [matrix derivatives](http://www.gatsby.ucl.ac.uk/teaching/courses/sntn/sntn-2017/resources/Matrix_derivatives_cribsheet.pdf) or see class notes )\n",
    "\n",
    "Thus, the gardient descent solution is $w'=w-\\alpha \\frac{2}{N}X^T(Xw-y)$.\n",
    "\n",
    "Solving $\\frac{\\partial{L_{RSS}}}{\\partial{w}}=0$ for $w$ one can also get analytical solution:\n",
    "\n",
    "$w_{OLS}=(X^TX)^{-1}X^Ty$\n",
    "\n",
    "The first term, $(X^TX)^{-1}X^T$ is also called the pseudo inverse of $X$.\n",
    "\n",
    "See [lecture note from Stanford](https://web.stanford.edu/~mrosenfe/soc_meth_proj3/matrix_OLS_NYU_notes.pdf) for more details.\n"
   ]
  },
  {
   "cell_type": "markdown",
   "metadata": {
    "id": "JA3MEKz80vdy"
   },
   "source": [
    "## Exercise 1 - Ordinary Least Square\n",
    "* Get the boston housing dataset by using the scikit-learn package. hint: [load_boston](http://scikit-learn.org/stable/modules/generated/sklearn.datasets.load_boston.html)\n",
    "\n",
    "* What is $p$? what is $n$ in the above notation? hint: [shape](https://docs.scipy.org/doc/numpy-1.15.0/reference/generated/numpy.ndarray.shape.html)\n",
    "\n",
    "* write a model `OrdinaryLinearRegression` which has a propoery $w$ and 3 methods: `fit`, `predict` and `score` (which returns the MSE on a given sample set). Hint: use [numpy.linalg.pinv](https://docs.scipy.org/doc/numpy-1.15.1/reference/generated/numpy.linalg.pinv.html) to be more efficient.\n",
    "\n",
    "* Fit the model. What is the training MSE?\n",
    "\n",
    "* Plot a scatter plot where on x-axis plot $Y$ and in the y-axis $\\hat{Y}_{OLS}$\n",
    "\n",
    "* Split the data to 75% train and 25% test 20 times. What is the average MSE now for train and test? Hint: use [train_test_split](http://scikit-learn.org/stable/modules/generated/sklearn.model_selection.train_test_split.html) or [ShuffleSplit](http://scikit-learn.org/stable/modules/generated/sklearn.model_selection.ShuffleSplit.html).\n",
    "\n",
    "* Use a t-test to proove that the MSE for training is significantly smaller than for testing. What is the p-value? Hint: use [scipy.stats.ttest_rel](https://docs.scipy.org/doc/scipy-0.14.0/reference/generated/scipy.stats.ttest_rel.html). \n",
    "\n",
    "* Write a new class `OrdinaryLinearRegressionGradientDescent` which inherits from `OrdinaryLinearRegression` and solves the problem using gradinet descent. The class should get as a parameter the learning rate and number of iteration. Plot the class convergance. What is the effect of learning rate? How would you find number of iteration automatically? Note: Gradient Descent does not work well when features are not scaled evenly (why?!). Be sure to normalize your features first.\n",
    "\n",
    "* The following parameters are optional (not mandatory to use):\n",
    "    * early_stop - True / False boolean to indicate to stop running when loss stops decaying and False to continue.\n",
    "    * verbose- True/False boolean to turn on / off logging, e.g. print details like iteration number and loss (https://en.wikipedia.org/wiki/Verbose_mode)\n",
    "    * track_loss - True / False boolean when to save loss results to present later in learning curve graphs"
   ]
  },
  {
   "cell_type": "code",
   "execution_count": 3,
   "metadata": {},
   "outputs": [],
   "source": [
    "import numpy as np\n",
    "import pandas as pd\n",
    "from sklearn.model_selection import train_test_split\n",
    "from scipy import stats\n",
    "from sklearn.datasets import load_boston\n",
    "import matplotlib.pyplot as plt\n"
   ]
  },
  {
   "cell_type": "code",
   "execution_count": 4,
   "metadata": {
    "id": "ZuSS8LhcfZdn"
   },
   "outputs": [],
   "source": [
    "# * write a model `Ols` which has a property $w$ and 3 methods: `fit`, `predict` and `score`.? hint: use [numpy.linalg.pinv](https://docs.scipy.org/doc/numpy-1.15.1/reference/generated/numpy.linalg.pinv.html) to be more efficient.\n",
    "\n",
    "class Ols(object):\n",
    "  def __init__(self):\n",
    "    self.w = None\n",
    "    \n",
    "  @staticmethod\n",
    "  def pad(X):\n",
    "    return np.append(np.ones([X.shape[0],1]),X,axis=1)\n",
    "  \n",
    "  def fit(self, X, Y):\n",
    "    #remember pad with 1 before fitting\n",
    "    self._fit(self.pad(X), Y)    \n",
    "  \n",
    "  def _fit(self, X, Y):\n",
    "    # optional to use this\n",
    "    self.w = np.matmul(np.linalg.pinv(X), Y)\n",
    "  \n",
    "  def predict(self, X):\n",
    "    #return w\n",
    "    return self._predict(self.pad(X))\n",
    "\n",
    "  def _predict(self, X):\n",
    "    #return w\n",
    "    # optional to use this\n",
    "    return np.matmul(X , self.w )\n",
    "    \n",
    "  def score(self, X, Y):\n",
    "    #return MSE\n",
    "    return ((X-Y)**2).mean()\n",
    "    "
   ]
  },
  {
   "cell_type": "code",
   "execution_count": 5,
   "metadata": {},
   "outputs": [
    {
     "name": "stderr",
     "output_type": "stream",
     "text": [
      "/Users/tansla/anaconda3/lib/python3.7/site-packages/sklearn/utils/deprecation.py:87: FutureWarning: Function load_boston is deprecated; `load_boston` is deprecated in 1.0 and will be removed in 1.2.\n",
      "\n",
      "    The Boston housing prices dataset has an ethical problem. You can refer to\n",
      "    the documentation of this function for further details.\n",
      "\n",
      "    The scikit-learn maintainers therefore strongly discourage the use of this\n",
      "    dataset unless the purpose of the code is to study and educate about\n",
      "    ethical issues in data science and machine learning.\n",
      "\n",
      "    In this special case, you can fetch the dataset from the original\n",
      "    source::\n",
      "\n",
      "        import pandas as pd\n",
      "        import numpy as np\n",
      "\n",
      "\n",
      "        data_url = \"http://lib.stat.cmu.edu/datasets/boston\"\n",
      "        raw_df = pd.read_csv(data_url, sep=\"\\s+\", skiprows=22, header=None)\n",
      "        data = np.hstack([raw_df.values[::2, :], raw_df.values[1::2, :2]])\n",
      "        target = raw_df.values[1::2, 2]\n",
      "\n",
      "    Alternative datasets include the California housing dataset (i.e.\n",
      "    :func:`~sklearn.datasets.fetch_california_housing`) and the Ames housing\n",
      "    dataset. You can load the datasets as follows::\n",
      "\n",
      "        from sklearn.datasets import fetch_california_housing\n",
      "        housing = fetch_california_housing()\n",
      "\n",
      "    for the California housing dataset and::\n",
      "\n",
      "        from sklearn.datasets import fetch_openml\n",
      "        housing = fetch_openml(name=\"house_prices\", as_frame=True)\n",
      "\n",
      "    for the Ames housing dataset.\n",
      "    \n",
      "  warnings.warn(msg, category=FutureWarning)\n"
     ]
    }
   ],
   "source": [
    "X, y = load_boston(return_X_y=True)"
   ]
  },
  {
   "cell_type": "code",
   "execution_count": 214,
   "metadata": {},
   "outputs": [],
   "source": [
    "# plt.style.use('bmh')\n",
    "# for i in range(X.shape[1]):\n",
    "#     fig, ax = plt.subplots()\n",
    "#     ax.plot(X[:,i])\n",
    "# # fig.show()"
   ]
  },
  {
   "cell_type": "code",
   "execution_count": 6,
   "metadata": {},
   "outputs": [],
   "source": [
    "X_train, X_test, y_train, y_test = train_test_split(X, y, test_size=0.25)\n",
    "my_ols = Ols()\n",
    "my_ols.fit(X_train,y_train)\n",
    "y_pred = my_ols.predict(X_test)"
   ]
  },
  {
   "cell_type": "code",
   "execution_count": 27,
   "metadata": {},
   "outputs": [
    {
     "name": "stderr",
     "output_type": "stream",
     "text": [
      "/Users/tansla/anaconda3/lib/python3.7/site-packages/ipykernel_launcher.py:11: UserWarning: Matplotlib is currently using module://ipykernel.pylab.backend_inline, which is a non-GUI backend, so cannot show the figure.\n",
      "  # This is added back by InteractiveShellApp.init_path()\n"
     ]
    },
    {
     "data": {
      "image/png": "[encoded data removed]",
      "text/plain": [
       "<Figure size 360x360 with 1 Axes>"
      ]
     },
     "metadata": {
      "needs_background": "light"
     },
     "output_type": "display_data"
    }
   ],
   "source": [
    "plt.style.use('bmh')\n",
    "fig, ax = plt.subplots(figsize=(5,5))\n",
    "ax.scatter(y_test,y_pred)\n",
    "fig.suptitle('Predicted vs true labels')\n",
    "ax.set_xlabel('True labels')\n",
    "ax.set_ylabel('Predicted labels')\n",
    "x_max_lim = max(y_test.max(),y_pred.max())*1.05\n",
    "ax.set_xlim(0,x_max_lim)\n",
    "ax.set_ylim(0,x_max_lim)\n",
    "# fig.savefig('q1.png', dpi=300)\n",
    "fig.show()"
   ]
  },
  {
   "cell_type": "code",
   "execution_count": 8,
   "metadata": {},
   "outputs": [
    {
     "name": "stdout",
     "output_type": "stream",
     "text": [
      "The mean MSE for TRAIN: 21.8808 and for the TEST: 23.0002\n",
      "With H0 = [There is no significant difference between MSE on train and test] and threshold = 0.05 we got next results:\n",
      "Since our pvalue (0.2936) >= 0.05 we CANNOT REJECT the null hypothesis\n"
     ]
    }
   ],
   "source": [
    "results_test = []\n",
    "results_train = []\n",
    "my_ols = Ols()\n",
    "for i in range(21):\n",
    "    X_train, X_test, y_train, y_test = train_test_split(X, y, test_size=0.25)\n",
    "    \n",
    "    my_ols.fit(X_train,y_train)\n",
    "    y_pred_train = my_ols.predict(X_train)\n",
    "    mse_train = my_ols.score(y_pred_train,y_train)\n",
    "    results_train.append(mse_train)\n",
    "\n",
    "    y_pred = my_ols.predict(X_test)\n",
    "    mse_test = my_ols.score(y_pred,y_test)\n",
    "    results_test.append(mse_test)\n",
    "\n",
    "mse_mean_test =  np.array(results_test).mean()\n",
    "mse_mean_train =  np.array(results_train).mean()\n",
    "\n",
    "p_value = stats.ttest_rel(results_test,results_train).pvalue\n",
    "\n",
    "print(f'The mean MSE for TRAIN: {mse_mean_train:.4f} and for the TEST: {mse_mean_test:.4f}')\n",
    "threshold = 0.05\n",
    "print(f'With H0 = [There is no significant difference between MSE on train and test] and threshold = {threshold} we got next results:')\n",
    "if p_value >= threshold:\n",
    "    print(f'Since our pvalue ({p_value:.4f}) >= {threshold} we CANNOT REJECT the null hypothesis')\n",
    "else:\n",
    "    print(f'Since our pvalue ({p_value:.4f}) < {threshold} we REJECT the null hypothesis')\n",
    "\n"
   ]
  },
  {
   "cell_type": "code",
   "execution_count": 11,
   "metadata": {},
   "outputs": [],
   "source": [
    "# Write a new class OlsGd which solves the problem using gradient descent. \n",
    "# The class should get as a parameter the learning rate and number of iteration. \n",
    "# Plot the loss convergance. for each alpha, learning rate plot the MSE with respect to number of iterations.\n",
    "# What is the effect of learning rate? \n",
    "\n",
    "# How would you find number of iteration automatically? \n",
    "# A: We could set a treshhold for stop by using the loss convergance\n",
    "# Note: Gradient Descent does not work well when features are not scaled evenly (why?!). Be sure to normalize your feature first.\n",
    "class Normalizer():\n",
    "  def __init__(self):\n",
    "    self._x_max = None\n",
    "    self._x_min = None\n",
    "\n",
    "  def fit(self, X):\n",
    "    self._x_max = X.max(axis=0)\n",
    "    self._x_min = X.min(axis=0)\n",
    "    self._x_min[self._x_max == self._x_min] = 0\n",
    "\n",
    "  def predict(self, X):\n",
    "    #apply normalization\n",
    "    return (X - self._x_min)/(self._x_max - self._x_min) \n",
    "    \n",
    "class OlsGd(Ols):\n",
    "  \n",
    "  def __init__(self, learning_rate=.0005, \n",
    "               num_iteration=1000, \n",
    "               normalize=True,\n",
    "               early_stop=True,\n",
    "               verbose=True):\n",
    "    \n",
    "    super(OlsGd, self).__init__()\n",
    "    self.learning_rate = learning_rate\n",
    "    self.num_iteration = num_iteration\n",
    "    self.early_stop = early_stop\n",
    "    self.normalize = normalize\n",
    "    self.normalizer = Normalizer()    \n",
    "    self.verbose = verbose\n",
    "    \n",
    "  def _fit(self, X, Y, reset=True, track_loss=True):\n",
    "    #remember to normalize the data before starting\n",
    "    losses = []\n",
    "    if self.normalize:\n",
    "      self.normalizer.fit(X)\n",
    "      X = self.normalizer.predict(X)\n",
    "    self.w = np.random.rand(X.shape[1])\n",
    "    for epoch in range(self.num_iteration):\n",
    "      losses.append(self.score(self._predict(X),Y))\n",
    "      self._step(X,Y)\n",
    "      if epoch > 2:\n",
    "        if losses[-1] > losses[-2]:\n",
    "          break \n",
    "    fig, ax = plt.subplots()\n",
    "    fig.suptitle(f'Loss function with learning_rate = {self.learning_rate}')\n",
    "    ax.set_xlabel('num_iteration')\n",
    "    ax.set_ylabel('score')\n",
    "    plt.plot(losses)\n",
    "    \n",
    "      \n",
    "  # def _loss(self, X, Y):\n",
    "  #   part = np.dot(X,self.w) - Y\n",
    "  #   return np.dot(part.transpose(), part)/2\n",
    "    \n",
    "        \n",
    "  def _predict(self, X):\n",
    "    #remember to normalize the data before starting\n",
    "      if self.normalize:\n",
    "        X = self.normalizer.predict(X)\n",
    "      return np.matmul(X , self.w )\n",
    "    \n",
    "      \n",
    "  def _step(self, X, Y):\n",
    "    # use w update for gradient descent\n",
    "    self.w = self.w -  (np.matmul(X.transpose(), np.matmul(X,self.w) - Y))*self.learning_rate"
   ]
  },
  {
   "cell_type": "code",
   "execution_count": 12,
   "metadata": {},
   "outputs": [
    {
     "data": {
      "text/plain": [
       "625937457.2817049"
      ]
     },
     "execution_count": 12,
     "metadata": {},
     "output_type": "execute_result"
    },
    {
     "data": {
      "image/png": "[encoded data removed]",
      "text/plain": [
       "<Figure size 432x288 with 1 Axes>"
      ]
     },
     "metadata": {
      "needs_background": "light"
     },
     "output_type": "display_data"
    }
   ],
   "source": [
    "X_train, X_test, y_train, y_test = train_test_split(X, y, test_size=0.25)\n",
    "my_ols = OlsGd(num_iteration=1000,learning_rate=.005)\n",
    "my_ols.fit(X_train,y_train)\n",
    "y_pred = my_ols.predict(X_test)\n",
    "my_ols.score(y_pred,y_test)"
   ]
  },
  {
   "cell_type": "code",
   "execution_count": 17,
   "metadata": {},
   "outputs": [
    {
     "data": {
      "text/plain": [
       "19.564585416976488"
      ]
     },
     "execution_count": 17,
     "metadata": {},
     "output_type": "execute_result"
    },
    {
     "data": {
      "image/png": "[encoded data removed]",
      "text/plain": [
       "<Figure size 432x288 with 1 Axes>"
      ]
     },
     "metadata": {
      "needs_background": "light"
     },
     "output_type": "display_data"
    }
   ],
   "source": [
    "X_train, X_test, y_train, y_test = train_test_split(X, y, test_size=0.25)\n",
    "my_ols = OlsGd(num_iteration=10000,learning_rate=.0005)\n",
    "my_ols.fit(X_train,y_train)\n",
    "y_pred = my_ols.predict(X_test)\n",
    "my_ols.score(y_pred,y_test)"
   ]
  },
  {
   "cell_type": "markdown",
   "metadata": {
    "id": "7HVfnXvZFi98"
   },
   "source": [
    "## Exercise 2 - Ridge Linear Regression\n",
    "\n",
    "Recall that ridge regression is identical to OLS but with a L2 penalty over the weights:\n",
    "\n",
    "$L(y,\\hat{y})=\\sum_{i=1}^{i=N}{(y^{(i)}-\\hat{y}^{(i)})^2} + \\lambda \\left\\Vert w \\right\\Vert_2^2$\n",
    "\n",
    "where $y^{(i)}$ is the **true** value and $\\hat{y}^{(i)}$ is the **predicted** value of the $i_{th}$ example, and $N$ is the number of examples\n",
    "\n",
    "* Show, by differentiating the above loss, that the analytical solution is $w_{Ridge}=(X^TX+\\lambda I)^{-1}X^Ty$\n",
    "* Change `OrdinaryLinearRegression` and `OrdinaryLinearRegressionGradientDescent` classes to work also for ridge regression (do not use the random noise analogy but use the analytical derivation). Either add a parameter, or use inheritance.\n",
    "* **Bonus: Noise as a regularizer**: Show that OLS (ordinary least square), if one adds multiplicative noise to the features the **average** solution for $W$ is equivalent to Ridge regression. In other words, if $X'= X*G$ where $G$ is an uncorrelated noise with variance $\\sigma$ and mean 1, then solving for $X'$ with OLS is like solving Ridge for $X$. What is the interpretation? \n",
    "\n"
   ]
  },
  {
   "cell_type": "code",
   "execution_count": 29,
   "metadata": {},
   "outputs": [],
   "source": [
    "class RidgeLs(Ols):\n",
    "  def __init__(self, ridge_lambda, *wargs, **kwargs):\n",
    "    super(RidgeLs,self).__init__(*wargs, **kwargs)\n",
    "    self.ridge_lambda = ridge_lambda\n",
    "    \n",
    "  def _fit(self, X, Y):\n",
    "    #Closed form of ridge regression\n",
    "    part1 = np.linalg.inv(np.matmul(X.T,X + self.ridge_lambda * np.identity(len(self.ridge_lambda))))\n",
    "    self.w = np.matmul(np.matmul(part1,X.T),Y)\n",
    "    "
   ]
  },
  {
   "cell_type": "code",
   "execution_count": null,
   "metadata": {},
   "outputs": [],
   "source": []
  },
  {
   "attachments": {},
   "cell_type": "markdown",
   "metadata": {},
   "source": [
    "### Use scikitlearn implementation for OLS, Ridge and Lasso"
   ]
  },
  {
   "cell_type": "code",
   "execution_count": 310,
   "metadata": {},
   "outputs": [
    {
     "name": "stderr",
     "output_type": "stream",
     "text": [
      "/Users/tansla/anaconda3/lib/python3.7/site-packages/ipykernel_launcher.py:8: UserWarning: Matplotlib is currently using module://ipykernel.pylab.backend_inline, which is a non-GUI backend, so cannot show the figure.\n",
      "  \n"
     ]
    },
    {
     "data": {
      "image/png": "[encoded data removed]",
      "text/plain": [
       "<Figure size 576x396 with 1 Axes>"
      ]
     },
     "metadata": {},
     "output_type": "display_data"
    }
   ],
   "source": [
    "plt.style.use('bmh')\n",
    "fig, ax = plt.subplots()\n",
    "ax.scatter(y_test,y_pred)\n",
    "fig.suptitle('Predicted vs true labels')\n",
    "ax.set_xlabel('True labels')\n",
    "ax.set_ylabel('Predicted labels')\n",
    "# fig.savefig('q1.png', dpi=300)\n",
    "fig.show()"
   ]
  }
 ],
 "metadata": {
  "colab": {
   "collapsed_sections": [],
   "name": "Regression & Regularization - Exercise.ipynb",
   "provenance": []
  },
  "kernelspec": {
   "display_name": "Python 3",
   "language": "python",
   "name": "python3"
  },
  "language_info": {
   "codemirror_mode": {
    "name": "ipython",
    "version": 3
   },
   "file_extension": ".py",
   "mimetype": "text/x-python",
   "name": "python",
   "nbconvert_exporter": "python",
   "pygments_lexer": "ipython3",
   "version": "3.7.3"
  },
  "vscode": {
   "interpreter": {
    "hash": "a6d966dc6d3bf27858c96a0cca082416ca45510cdfd9e0cf25e4971a54ae9926"
   }
  }
 },
 "nbformat": 4,
 "nbformat_minor": 1
}
